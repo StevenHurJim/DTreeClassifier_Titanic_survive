{
  "cells": [
    {
      "cell_type": "markdown",
      "metadata": {
        "id": "view-in-github",
        "colab_type": "text"
      },
      "source": [
        "<a href=\"https://colab.research.google.com/github/StevenHurJim/EjerciciosPythonModulo1/blob/main/Bienvenue_dans_Colaboratory.ipynb\" target=\"_parent\"><img src=\"https://colab.research.google.com/assets/colab-badge.svg\" alt=\"Open In Colab\"/></a>"
      ]
    },
    {
      "cell_type": "code",
      "execution_count": 7,
      "metadata": {
        "id": "zwFnJsE6vjf8"
      },
      "outputs": [],
      "source": [
        "# Cargar el modelo en memoria RAM\n",
        "import pickle\n",
        "ModTreeBase = \"ModelBase_Arbol.pkl\"\n",
        "with open(ModTreeBase, \"rb\") as ModFileEntren6: #rb importante para escritura\n",
        "  ModBaseProduccion = pickle.load(ModFileEntren6)\n"
      ]
    },
    {
      "cell_type": "code",
      "source": [
        "import numpy as np\n",
        "import pandas as pd\n",
        "import matplotlib.pyplot as plt\n",
        "\n",
        "Nuev_Dat = pd.read_csv(\"https://raw.githubusercontent.com/robintux/Datasets4StackOverFlowQuestions/master/Titanic_test.csv\")"
      ],
      "metadata": {
        "id": "eVrQSJwWTLQE"
      },
      "execution_count": 8,
      "outputs": []
    },
    {
      "cell_type": "code",
      "source": [
        "Nuev_Dat.columns"
      ],
      "metadata": {
        "id": "okDr-dW1UNgW",
        "outputId": "31763548-79f1-4570-ed46-bc0b5511ae10",
        "colab": {
          "base_uri": "https://localhost:8080/"
        }
      },
      "execution_count": 9,
      "outputs": [
        {
          "output_type": "execute_result",
          "data": {
            "text/plain": [
              "Index(['PassengerId', 'Pclass', 'Name', 'Sex', 'Age', 'SibSp', 'Parch',\n",
              "       'Ticket', 'Fare', 'Cabin', 'Embarked'],\n",
              "      dtype='object')"
            ]
          },
          "metadata": {},
          "execution_count": 9
        }
      ]
    },
    {
      "cell_type": "code",
      "source": [
        "Nuev_Dat.pop(\"PassengerId\")\n",
        "Nuev_Dat.pop(\"Ticket\")\n",
        "Nuev_Dat.pop(\"Name\")\n",
        "Nuev_Dat.pop(\"Cabin\")\n",
        "\n",
        "Nuev_Dat.Pclass = Nuev_Dat.Pclass.apply(str)\n",
        "Nuev_Dat.isnull().sum()\n"
      ],
      "metadata": {
        "id": "0dOm9jIJUVWt",
        "outputId": "1734947a-d6fd-4912-d72b-85ce2f8e5368",
        "colab": {
          "base_uri": "https://localhost:8080/"
        }
      },
      "execution_count": 10,
      "outputs": [
        {
          "output_type": "execute_result",
          "data": {
            "text/plain": [
              "Pclass       0\n",
              "Sex          0\n",
              "Age         86\n",
              "SibSp        0\n",
              "Parch        0\n",
              "Fare         1\n",
              "Embarked     0\n",
              "dtype: int64"
            ]
          },
          "metadata": {},
          "execution_count": 10
        }
      ]
    },
    {
      "cell_type": "code",
      "source": [
        "Nuev_Dat.Age = Nuev_Dat.Age.fillna(Nuev_Dat.Age.mean())\n",
        "Nuev_Dat.Fare = Nuev_Dat.Fare.fillna(Nuev_Dat.Fare.mean())"
      ],
      "metadata": {
        "id": "ECG4C-B_mqQR"
      },
      "execution_count": 11,
      "outputs": []
    },
    {
      "cell_type": "code",
      "source": [
        "for col in Nuev_Dat.dtypes[Nuev_Dat.dtypes == \"object\"].index :\n",
        "  Col4Dummy = Nuev_Dat.pop(col)\n",
        "  Nuev_Dat = pd.concat(Nuev_Dat, pd.get_dummies(Col4Dummy))"
      ],
      "metadata": {
        "id": "2Tijd2QGpjgu"
      },
      "execution_count": null,
      "outputs": []
    }
  ],
  "metadata": {
    "colab": {
      "name": "Bienvenue dans Colaboratory",
      "provenance": [],
      "include_colab_link": true
    },
    "kernelspec": {
      "display_name": "Python 3",
      "name": "python3"
    }
  },
  "nbformat": 4,
  "nbformat_minor": 0
}